{
  "cells": [
    {
      "cell_type": "markdown",
      "metadata": {
        "id": "view-in-github",
        "colab_type": "text"
      },
      "source": [
        "<a href=\"https://colab.research.google.com/github/neelabhro/Deep-Learning-based-Wireless-Communications/blob/main/Rayleigh_COLAB_Loss_Func.ipynb\" target=\"_parent\"><img src=\"https://colab.research.google.com/assets/colab-badge.svg\" alt=\"Open In Colab\"/></a>"
      ]
    },
    {
      "cell_type": "markdown",
      "metadata": {
        "id": "YIoYASfEf7go"
      },
      "source": [
        "#### Import libraries"
      ]
    },
    {
      "cell_type": "code",
      "execution_count": 18,
      "metadata": {
        "colab": {
          "base_uri": "https://localhost:8080/"
        },
        "id": "kKl9e4A0H1lk",
        "outputId": "9388511a-4d3e-447b-e2df-0e8fefea365e"
      },
      "outputs": [
        {
          "output_type": "stream",
          "name": "stdout",
          "text": [
            "Using tensorflow version: 1.15.2\n"
          ]
        }
      ],
      "source": [
        "# magic command to use TF 1.X in colaboraty when importing tensorflow\n",
        "%tensorflow_version 1.x \n",
        "import tensorflow as tf                       # imports the tensorflow library to the python kernel\n",
        "tf.logging.set_verbosity(tf.logging.ERROR)    # sets the amount of debug information from TF (INFO, WARNING, ERROR)\n",
        "import time\n",
        "import random\n",
        "print(\"Using tensorflow version:\", tf.__version__)\n",
        "#print(\"Num GPUs Available: \", len(tf.config.list_physical_devices('GPU')))"
      ]
    },
    {
      "cell_type": "code",
      "execution_count": 19,
      "metadata": {
        "id": "QiCDuiGqf7gr"
      },
      "outputs": [],
      "source": [
        "import numpy as np\n",
        "%matplotlib inline\n",
        "import matplotlib.pyplot as plt\n",
        "from scipy import signal\n",
        "import math\n",
        "pi = tf.constant(math.pi)"
      ]
    },
    {
      "cell_type": "markdown",
      "metadata": {
        "id": "mrLsO1Nxf7g3"
      },
      "source": [
        "#### System parameters"
      ]
    },
    {
      "cell_type": "code",
      "execution_count": 20,
      "metadata": {
        "colab": {
          "base_uri": "https://localhost:8080/",
          "height": 1000
        },
        "id": "spN0MeqFD7x-",
        "outputId": "808df664-b675-4495-9a96-d7a156aac1ce"
      },
      "outputs": [
        {
          "output_type": "stream",
          "name": "stdout",
          "text": [
            "Intial Sequence [0 0 0 0 0 0 0 0 0 0 0 0 0 0 0 0 0 0 0 0 1 1 1 1 1 2 2 2 3 3 3 4 4 4 5 5 5\n",
            " 6 6 7 7 7 7 7 7 7 7 7 7 7 6 6 6 5 5 5 4 4 4 3 3 3 3 2 2 2 2 2 2 1 1 1 1 1\n",
            " 1 0 0 0 0 0 0 0 0 0 0 0 0 0 0 0 0 0 0 0 0 0 0 0 0 0 1 1 1 1 1 2 2 2 2 2 3\n",
            " 3 3 3 3 4 4 4 4 4 4 4 4 4 4 3 3 3 3 3 3 3 3 3 3 3 3 3 3 3 3 3 3 3 4 4 4 4\n",
            " 4 4 4 4 4 4 4 4 4 3 3 3 3 3 3 2 2 2 2 2 2 1 1 1 1 1 1 0 0 0 0 0 1 1 1 1 1\n",
            " 2 2 2 2 2 3 3 3 3 3 4 4 4 4 4 4 4 4 4 4 3 3 3 3 3 2 2 2 2 2 1 1 1 1 1 0 0\n",
            " 0 0 0 1 1 1 1 1 1 1 2 2 2 2 2 2 3 3 3 3 3 3 4 4 4 4 4 4 4 4 4 4 4 4 3 3 3\n",
            " 3 3 3 3 3 3 3 3 3 3 3 3 3 3 3 3 4 4 4 4 4 4 4 4 4 4 3 3 3 3 3 2 2 2 2 2 1\n",
            " 1 1 1 1 0 0 0 0 0 0 0 0 0 0 0 0 0 0 0 0 0 0 0 0 0 0 0 0 0 1 1 1 1 1 1 2 2\n",
            " 2 2 2 2 2 3 3 3 3 4 4 4 5 5 6 6 6 7 7 7 7 7 7 7 7 7 7 7 6 6 6 5 5 5 4 4 4\n",
            " 3 3 2 2 2 1 1 1 1 1 0 0 0 0 0 0 0 0 0 0 0 0 0 0 0 0 0 0 0 0 0 0 0 0 0 0 0\n",
            " 0 0 0 0 0 0 0 0 0 0 0 0 0 1 1 1 1 1 2 2 2 3 3 3 4 4 5 5 5 6 6 6 7 7 7 7 7\n",
            " 7 7 7 7 7 7 6 6 6 5 5 5 4 4 3 3 3 3 3 2 2 2 2 2 2 1 1 1 1 1 1 0 0 0 0 0 0\n",
            " 0 0 0 0 0 0 0 0 0 0 0 0 0 0 0 0 0 0 0 1 1 1 1 1 2 2 2 2 2 3 3 3 3 3 4 4 4\n",
            " 4 4 4 4 4 4 4 3 3 3 3 3 3 3 3 3 3 3 3 3 3 3 3 3 3 3 4 4 4 4 4 4 4 4 4 4 4\n",
            " 4 3 3 3 3 3 3 2 2 2 2 2 2 2 1 1 1 1 1 1 0 0 0 0 0 1 1 1 1 1 2 2 2 2 2 3 3\n",
            " 3 3 3 4 4 4 4 4 4 4 4 4 4 3 3 3 3 3 2 2 2 2 2 1 1 1 1 1 0 0 0 0 0 1 1 1 1\n",
            " 1 1 2 2 2 2 2 2 3 3 3 3 3 3 3 4 4 4 4 4 4 4 4 4 4 4 4 3 3 3 3 3 3 3 3 3 3\n",
            " 3 3 3 3 3 3 3 3 3 4 4 4 4 4 4 4 4 4 4 3 3 3 3 3 2 2 2 2 2 1 1 1 1 1 0 0 0\n",
            " 0 0 0 0 0 0 0 0 0 0 0 0 0 0 0 0 0 0 0 0 0 0 1 1 1 1 1 1 2 2 2 2 2 2 3 3 3\n",
            " 3 4 4 4 5 5 5 6 6 6 7 7 7 7 7 7 7 7 7 7 7 6 6 6 5 5 4 4 4 3 3 3 2 2 2 1 1\n",
            " 1 1 1 0 0 0 0 0 0 0 0 0 0 0 0 0 0 0 0 0 0 0 0 0 0 0 0 0 0 0 0 0 0 0 0 0 0\n",
            " 0 0 0 0 0 0 1 1 1 1 1 2 2 3 3 3 4 4 4 5 5 5 6 6 6 7 7 7 7 7 7 7 7 7 7 7 6\n",
            " 6 5 5 5 4 4 4 3 3 3 3 2 2 2 2 2 2 1 1 1 1 1 1 1 0 0 0 0 0 0 0 0 0 0 0 0 0\n",
            " 0 0 0 0 0 0 0 0 0 0 0 0 1 1 1 1 1 2 2 2 2 2 3 3 3 3 3 4 4 4 4 4 4 4 4 4 4\n",
            " 3 3 3 3 3 3 3 3 3 3 3 3 3 3 3 3 3 3 4 4 4 4 4 4 4 4 4 4 4 4 4 3 3 3 3 3 3\n",
            " 2 2 2 2 2 2 1 1 1 1 1 1 1 0 0 0 0 0 1 1 1 1 1 2 2 2 2 2 3 3 3 3 3 4 4 4 4\n",
            " 4]\n",
            "Transmitted Sequence [6. 0. 0. 7. 6. 4. 7. 7. 4. 4. 4. 1. 5. 6. 0. 5. 1. 0. 4. 0. 3. 0. 6. 2.\n",
            " 1. 1. 3. 2. 7. 2. 4. 3. 3. 7. 3. 1. 7. 2. 7. 7. 2. 6. 4. 1. 5. 7. 7. 4.\n",
            " 3. 4. 4. 1. 3. 2. 3. 7. 5. 5. 2. 6. 4. 7. 5. 7. 6. 2. 2. 7. 6. 7. 2. 1.\n",
            " 2. 7. 3. 1. 7. 0. 0. 7. 4. 7. 4. 1. 1. 2. 3. 7. 2. 7. 5. 2. 3. 4. 0. 0.\n",
            " 0. 5. 0. 4. 4. 3. 5. 5. 2. 2. 4. 1. 4. 0. 5. 4. 1. 2. 4. 0. 6. 0. 6. 4.\n",
            " 7. 0. 3. 6. 3. 2. 5. 3. 2. 5. 1. 6. 0. 2. 7. 1. 3. 6. 0. 2. 1. 3. 3. 2.\n",
            " 6. 7. 3. 1. 6. 2. 3. 0. 6. 5. 3. 3. 0. 6. 1. 4. 1. 2. 7. 3. 4. 4. 1. 7.\n",
            " 5. 3. 5. 5. 2. 2. 1. 2. 7. 1. 4. 0. 3. 3. 0. 5. 2. 5. 4. 0. 5. 2. 6. 2.\n",
            " 7. 5. 5. 5. 6. 1. 5. 1. 3. 7. 7. 7. 7. 2. 6. 7. 1. 3. 1. 6. 1. 5. 5. 6.\n",
            " 3. 4. 0. 6. 1. 4. 4. 3. 0. 5. 1. 6. 4. 1. 7. 2. 3. 7. 2. 6. 6. 3. 5. 1.\n",
            " 4. 5. 1. 4. 4. 3. 3. 4. 5. 7. 3. 2. 0. 6. 4. 1. 0. 7. 7. 1. 7. 5. 6. 3.\n",
            " 2. 0. 2. 1. 7. 5. 5. 2. 2. 5. 1. 7. 4. 4. 6. 6. 5. 1. 0. 0. 5. 1. 1. 3.\n",
            " 7. 6. 3. 6. 3. 5. 2. 5. 7. 5. 2. 7. 1. 7. 7. 1. 7. 4. 7. 1. 2. 5. 0. 4.\n",
            " 0. 1. 1. 4. 3. 2. 6. 5. 4. 0. 4. 6. 7. 0. 1. 2. 1. 5. 0. 4. 7. 7. 6. 6.\n",
            " 4. 6. 3. 1. 4. 2. 3. 3. 4. 5. 4. 2. 7. 7. 0. 5. 4. 0. 0. 7. 6. 6. 4. 2.\n",
            " 3. 5. 1. 6. 7. 6. 1. 0. 2. 7. 5. 1. 2. 2. 3. 3. 0. 0. 4. 1. 4. 4. 6. 2.\n",
            " 3. 0. 0. 6. 3. 7. 0. 7. 3. 5. 0. 2. 6. 3. 3. 5. 2. 0. 7. 1. 7. 3. 1. 5.\n",
            " 5. 2. 0. 1. 4. 6. 6. 4. 1. 5. 2. 3. 1. 0. 0. 7. 1. 1. 2. 2. 6. 4. 7. 2.\n",
            " 7. 4. 1. 0. 6. 6. 7. 3. 0. 1. 4. 4. 1. 7. 5. 3. 7. 6. 2. 4. 5. 4. 3. 6.\n",
            " 6. 0. 3. 1. 1. 2. 3. 4. 3. 7. 5. 0. 5. 0. 6. 3. 0. 3. 4. 2. 3. 4. 5. 3.\n",
            " 4. 6. 2. 3. 6. 7. 1. 7. 7. 6. 2. 3. 0. 2. 3. 3. 6. 6. 5. 3. 3. 5. 3. 0.\n",
            " 7. 1. 3. 4. 2. 2. 3. 4. 4. 6. 1. 5. 2. 5. 5. 5. 5. 4. 2. 3. 4. 2. 2. 0.\n",
            " 2. 1. 3. 4. 4. 4. 7. 1. 7. 6. 7. 4. 4. 1. 7. 0. 0. 1. 7. 2. 5. 1. 5. 3.\n",
            " 0. 3. 6. 0. 2. 1. 5. 5. 3. 7. 4. 5. 1. 4. 1. 2. 0. 5. 2. 5. 1. 6. 1. 4.\n",
            " 1. 2. 0. 6. 1. 1. 0. 1. 0. 6. 5. 1. 1. 7. 5. 3. 1. 7. 0. 5. 5. 2. 6. 0.\n",
            " 4. 5. 5. 5. 2. 1. 6. 3. 2. 3. 3. 1. 7. 3. 7. 3. 7. 5. 5. 4. 5. 3. 1. 2.\n",
            " 6. 7. 3. 4. 5. 0. 2. 4. 7. 2. 5. 4. 1. 6. 6. 7. 5. 5. 6. 7. 5. 1. 7. 2.\n",
            " 7. 0. 0. 5. 2. 3. 5. 5. 0. 5. 5. 0. 0. 1. 6. 6. 6. 5. 4. 1. 3. 7. 2. 5.\n",
            " 0. 7. 7. 2. 6. 1. 5. 6. 2. 7. 2. 5. 6. 0. 5. 1. 5. 2. 4. 0. 4. 3. 0. 3.\n",
            " 2. 4. 0. 4. 4. 2. 5. 6. 6. 3. 1. 1. 2. 0. 6. 4. 3. 2. 0. 4. 4. 7. 7. 0.\n",
            " 7. 7. 6. 0. 6. 0. 4. 5. 6. 5. 0. 4. 6. 6. 4. 5. 2. 7. 2. 4. 5. 7. 1. 4.\n",
            " 4. 2. 0. 5. 7. 2. 4. 7. 4. 5. 5. 4. 0. 0. 6. 4. 3. 7. 4. 3. 0. 2. 7. 7.\n",
            " 0. 7. 3. 4. 0. 4. 2. 2. 4. 2. 4. 1. 3. 1. 1. 4. 7. 3. 6. 3. 1. 4. 3. 6.\n",
            " 6. 1. 2. 7. 5. 7. 3. 7. 3. 2. 5. 3. 2. 2. 6. 7. 7. 2. 2. 3. 2. 5. 6. 5.\n",
            " 2. 3. 0. 1. 3. 5. 3. 5. 1. 7. 1. 2. 1. 7. 7. 5. 1. 7. 4. 3. 0. 7. 4. 1.\n",
            " 3. 1. 4. 7. 7. 3. 1. 0. 4. 7. 5. 1. 7. 5. 2. 0. 2. 1. 3. 6. 4. 2. 4. 3.\n",
            " 0. 7. 3. 7. 1. 6. 7. 3. 4. 4. 0. 7. 2. 4. 4. 7. 7. 1. 6. 5. 6. 7. 2. 3.\n",
            " 1. 1. 4. 1. 0. 2. 6. 2. 1. 4. 7. 4. 3. 4. 7. 2. 0. 2. 2. 3. 4. 7. 1. 0.\n",
            " 0. 6. 0. 4. 5. 4. 6. 5. 4. 0. 2. 2. 4. 4. 7. 0. 7. 6. 0. 6. 6. 7. 7. 3.\n",
            " 7. 5. 4. 4. 7. 5. 6. 7. 7. 4. 5. 2. 5. 7. 4. 5. 4. 0. 4. 6. 4. 3. 6. 0.\n",
            " 6. 2. 2. 6. 0. 1. 5. 2. 4. 2. 2. 5. 1. 2. 6. 1. 6. 0. 7. 3. 7. 5. 5. 1.\n",
            " 5. 1. 4. 3. 0. 4. 7. 0. 5. 3. 7. 0. 6. 6. 3. 0.]\n"
          ]
        },
        {
          "output_type": "display_data",
          "data": {
            "image/png": "[encoded data removed]",
            "text/plain": [
              "<Figure size 432x288 with 1 Axes>"
            ]
          },
          "metadata": {
            "needs_background": "light"
          }
        }
      ],
      "source": [
        "\n",
        "batch_size = 1000\n",
        "\n",
        "#print(tr)\n",
        "#plt.plot(t, tr)\n",
        "T1 = random.randint(1, 10)\n",
        "T2 = random.randint(1, 10)\n",
        "M = 8\n",
        "t = np.linspace(0, 1, batch_size)\n",
        "triangle1 = signal.sawtooth(T1 * np.pi * 5 * t, 0.5)\n",
        "triangle1 = M/2*(triangle1)\n",
        "triangle1 = triangle1.clip(min=0)\n",
        "\n",
        "triangle2 = signal.sawtooth(T2 * np.pi * 5 * t, 0.5)\n",
        "triangle2 = M/2*(triangle2)\n",
        "triangle2 = triangle2.clip(min=0)\n",
        "\n",
        "triangle3 = triangle1 + triangle2\n",
        "#triangle3 = triangle3/15*(7)\n",
        "tr = triangle3\n",
        "#bins = np.array([0, 1, 2, 3, 4, 5, 6, 7, 8, 9, 10, 11, 12, 13, 14])\n",
        "bins = np.arange(M-1)\n",
        "tr = np.digitize(triangle3, bins, right=True)\n",
        "plt.plot(t, triangle3)\n",
        "\n",
        "#tr = np.flip(tr)\n",
        "print('Intial Sequence', tr)\n",
        "#replacements = {0:7, 1:6, 2:5, 3:4, 4:3, 5:2, 6:1, 7:0}\n",
        "#replacements = {0:15, 1:14, 2:13, 3:12, 4:11, 5:10, 6:9, 7:8, 8:7, 9:6, 10:5, 11:4, 12:3, 13:2, 14:1, 15:0}\n",
        "rp1 = np.arange(M)\n",
        "rp2 = np.flip(np.arange(M))\n",
        "replacements = dict(zip(rp1,rp2))\n",
        "#print(rp2)\n",
        "replacer = replacements.get\n",
        "#tr = ([replacer(n, n) for n in tr])\n",
        "#tr2 = ([replacer(n, n) for n in triangle3])\n",
        "tr = np.floor(np.random.uniform(0,M, batch_size))\n",
        "print('Transmitted Sequence', tr)\n",
        "plt.plot(t, tr)\n",
        "plt.legend(['Input signal', 'Quantized and bit flipped'])\n",
        "\n",
        "#s_ind = np.empty(shape=(M,batch_size))\n",
        "s_ind = {}\n",
        "for j in range(M):\n",
        "  s_ind[j] = [i for i, x in enumerate(tr) if x == j]\n",
        "\n",
        "#s_ind = np.where(tr == 1)[0]\n",
        "#  s_ind[j] = np.where(tr == j)\n",
        "#s_ind_0 = [i for i, x in enumerate(tr) if x == 0]\n",
        "#s_ind_1 = [i for i, x in enumerate(tr) if x == 1]\n",
        "#s_ind_2 = [i for i, x in enumerate(tr) if x == 2]        \n",
        "#s_ind_3 = [i for i, x in enumerate(tr) if x == 3]\n",
        "#s_ind_4 = [i for i, x in enumerate(tr) if x == 4]\n",
        "#s_ind_5 = [i for i, x in enumerate(tr) if x == 5]\n",
        "#s_ind_6 = [i for i, x in enumerate(tr) if x == 6]\n",
        "#s_ind_7 = [i for i, x in enumerate(tr) if x == 7] \n",
        "#s_ind_8 = [i for i, x in enumerate(tr) if x == 8]\n",
        "#s_ind_9 = [i for i, x in enumerate(tr) if x == 9]\n",
        "#s_ind_10 = [i for i, x in enumerate(tr) if x == 10]        \n",
        "#s_ind_11 = [i for i, x in enumerate(tr) if x == 11]\n",
        "#s_ind_12 = [i for i, x in enumerate(tr) if x == 12]\n",
        "#s_ind_13 = [i for i, x in enumerate(tr) if x == 13]\n",
        "#s_ind_14 = [i for i, x in enumerate(tr) if x == 14]\n",
        "#s_ind_15 = [i for i, x in enumerate(tr) if x == 15] \n",
        "#print(s_ind[15])\n",
        "#print(s_ind_0)\n",
        "#print([tr[x] for x in s_ind_0])"
      ]
    },
    {
      "cell_type": "code",
      "source": [
        ""
      ],
      "metadata": {
        "id": "Ov8S7xfPHOps"
      },
      "execution_count": 20,
      "outputs": []
    },
    {
      "cell_type": "code",
      "execution_count": 21,
      "metadata": {
        "id": "4eRvwZ5Nf7g6"
      },
      "outputs": [],
      "source": [
        "k = 3       # Number of information bits per message, i.e., M=2**k\n",
        "n = 2       # Number of real channel uses per message\n",
        "seed = 2    # Seed RNG reproduce identical results"
      ]
    },
    {
      "cell_type": "markdown",
      "metadata": {
        "id": "28KCbvYif7hD"
      },
      "source": [
        "#### The Autoencoder Class\n",
        "In order to quickly experiment with different architecture and parameter choices, it is useful to create a Python class that has functions for training and inference. Each autoencoder instance has its own Tensorflow session and graph. Thus, you can have multiple instances running at the same time without interference between them."
      ]
    },
    {
      "cell_type": "code",
      "execution_count": 22,
      "metadata": {
        "id": "hs9Rtd01f7hG"
      },
      "outputs": [],
      "source": [
        "class AE(object):\n",
        "    def __init__(self, k, n, seed=None, filename=None):\n",
        "        assert (n%2 == 0), \"Channel only allows complex symbols -> n must be a multiple of 2\"\n",
        "        self.k = k \n",
        "        self.n = n\n",
        "        self.n_complex = int(self.n/2)\n",
        "        self.bits_per_symbol = self.k/self.n_complex\n",
        "        self.M = 2**self.k\n",
        "        self.seed = seed if (seed is not None) else int(time.time())           \n",
        "        self.graph = None\n",
        "        self.sess = None   \n",
        "        self.vars = None\n",
        "        self.saver = None   \n",
        "        self.constellations = None\n",
        "        self.blers = None\n",
        "        self.create_graph()\n",
        "        self.create_session()\n",
        "        if filename is not None:    \n",
        "            self.load(filename)       \n",
        "        return\n",
        "    \n",
        "    def generate_distances(self,int_batch_size,bins):\n",
        "        # int_batch_size: 1000\n",
        "        # bins = np.array([0, 1, 2, 3, 4, 5, 6])\n",
        "\n",
        "        t = np.linspace(0,1,int_batch_size)\n",
        "        triangle1 = signal.sawtooth(2 * np.pi * 5 * t, 0.5)\n",
        "        triangle1 = M/2(*triangle1)\n",
        "        triangle1 = triangle1.clip(min=0)\n",
        "\n",
        "        triangle2 = signal.sawtooth(5 * np.pi * 5 * t, 0.5)\n",
        "        triangle2 = M/2*(triangle2)\n",
        "        triangle2 = triangle2.clip(min=0)\n",
        "\n",
        "        triangle3 = triangle1 + triangle2\n",
        "        bins = np.arange(M-1)\n",
        "        tr = np.digitize(triangle3, bins, right=True)\n",
        "\n",
        "        print(tr)\n",
        "        rp1 = np.arange(M)\n",
        "        rp2 = np.flip(np.arange(M))\n",
        "        replacements = dict(zip(rp1,rp2))\n",
        "        replacer = replacements.get\n",
        "        tr = ([replacer(n, n) for n in tr])\n",
        "\n",
        "\n",
        "    \n",
        "    def create_graph(self):\n",
        "        '''This function creates the computation graph of the autoencoder'''\n",
        "        self.graph = tf.Graph()        \n",
        "        with self.graph.as_default():    \n",
        "            tf.set_random_seed(self.seed)\n",
        "            batch_size = tf.placeholder(tf.int32, shape=())\n",
        "            \n",
        "            # Transmitter\n",
        "            s = tf.random_uniform(shape=[batch_size], minval=0, maxval=self.M, dtype=tf.int64)\n",
        "            #s = tf.random_uniform(shape=[1000], minval=0, maxval=self.M, dtype=tf.int64)\n",
        "            \n",
        "            plt.plot(t, triangle3, 'o')\n",
        "            plt.plot(t, triangle3)\n",
        "            print('See s here:', s)\n",
        "            #plt.plot(t, s)\n",
        "            #s = tf.convert_to_tensor(s, dtype=tf.int64)\n",
        "            x = self.encoder(s)     \n",
        "            \n",
        "            # Channel\n",
        "            noise_std = tf.placeholder(tf.float32, shape=())\n",
        "            noise = tf.random_normal(tf.shape(x), mean=0.0, stddev=noise_std) \n",
        "\n",
        "            fade = tf.random.normal(shape=tf.shape(x))\n",
        "            sparr1,sparr2 = tf.split(fade,num_or_size_splits=2, axis=2)\n",
        "            complex_fade = tf.complex(sparr1, sparr2)\n",
        "            fade = tf.abs(complex_fade)\n",
        "            #fade = tf.math.sqrt(1/2)*fade\n",
        "\n",
        "            #fade = 1\n",
        "            y = tf.multiply(x,fade) + noise\n",
        "            #y = x + noise\n",
        "            #fade = 1            \n",
        "           \n",
        "            # Receiver\n",
        "            s_hat = self.decoder(y)\n",
        "            correct_s_hat = tf.argmax(tf.nn.softmax(s_hat), axis=1)\n",
        "\n",
        "            #sess = tf.Session()\n",
        "            #print(sess.run((s_hat)))\n",
        "            #wt = list([1,2,3,4,5,6,7,8])\n",
        "            #wt = tf.convert_to_tensor(wt, dtype=tf.float32)\n",
        "            #s_hat = (tf.math.multiply(s_hat,wt))\n",
        "            \n",
        "            #print(sess.run((wt)))\n",
        "            #print(sess.run((s_hat)))\n",
        "            \n",
        "\n",
        "            \n",
        "            # Loss function\n",
        "            #cross_entropy = tf.losses.sparse_softmax_cross_entropy(labels=s, logits=s_hat)\n",
        "  \n",
        "            #Defining the i_matrix\n",
        "            limit = 8\n",
        "            i = tf.range(limit)\n",
        "            multiply = tf.constant([1000])\n",
        "            i_matrix = tf.reshape(tf.tile(i, multiply), [ multiply[0], tf.shape(i)[0]])\n",
        "            print(i_matrix)\n",
        "            #e_si = (tf.cast(s[:, tf.newaxis], tf.float32)) - (tf.cast(i_matrix,tf.float32))\n",
        "            e_si = tf.math.square((tf.cast(s, tf.float32)) - tf.transpose(tf.cast(i_matrix,tf.float32)))\n",
        "            e_si = tf.transpose(e_si)\n",
        "            b = tf.nn.softmax(s_hat)\n",
        "\n",
        "            cost_func = tf.math.multiply(b,e_si)\n",
        "\n",
        "            sum_cf = tf.reduce_sum(cost_func, axis = 1)\n",
        "            print(sum_cf)\n",
        "            #i_matrix\n",
        "            #replicated_s\n",
        "\n",
        "            #for i in range(M):\n",
        "              #cost_func = tf.cast(cost_func, tf.float32) + (tf.cast(s_hat,tf.float32))*(((tf.cast(s,tf.float32))- (tf.cast(i,tf.float32)))**2)\n",
        "              #cost_func = (tf.cast(s_hat[:,i],tf.float32))*(((tf.cast(s,tf.float32))- (tf.cast(i,tf.float32))))\n",
        "              #cost_func = (tf.cast(s_hat[:,i],tf.float32))*(((tf.cast(s,tf.float32))- (tf.cast(i,tf.float32)))**2)\n",
        "              #cost_func[i] = (tf.cast(s_hat[:,i],tf.float32))*(((tf.cast(s,tf.float32))- (tf.cast(i,tf.float32)))**2)\n",
        "              #e_s[i] = (((tf.cast(s[i],tf.float32))- (tf.cast(i,tf.float32)))**2)\n",
        "              #cost_func[i] = (tf.cast(s_hat[:,i],tf.float32))*e_s[i]\n",
        "              #cost_func[i] = (tf.cast(s_hat[:,i],tf.float32))*4\n",
        "              \n",
        "                \n",
        "            # Performance metrics\n",
        "            correct_predictions = tf.equal(tf.argmax(tf.nn.softmax(s_hat), axis=1), s)\n",
        "            accuracy = tf.reduce_mean(tf.cast(correct_predictions, tf.float32))\n",
        "            bler = 1-accuracy\n",
        "\n",
        "\n",
        "\n",
        "\n",
        "\n",
        "\n",
        "            # Optimizer\n",
        "            lr = tf.placeholder(tf.float32, shape=()) # We can feed in any desired learning rate for each step     \n",
        "            train_op = tf.train.AdamOptimizer(lr).minimize(sum_cf)\n",
        "            #lr = tf.train.exponential_decay(1e-10, global_step=cross_entropy, decay_steps=100, decay_rate=1.30)\n",
        "\n",
        "        \n",
        "            # References to graph variables we need to access later \n",
        "            self.vars = {\n",
        "                'accuracy': accuracy,\n",
        "                'i_matrix': i_matrix, \n",
        "                'batch_size': batch_size,\n",
        "                'bler': bler,\n",
        "\n",
        "                'cost_func': cost_func,\n",
        "                'sum_cf': sum_cf,\n",
        "                #'cross_entropy': cross_entropy,\n",
        "                'init': tf.global_variables_initializer(),\n",
        "                'lr': lr,\n",
        "                'noise_std': noise_std,\n",
        "                'train_op': train_op,\n",
        "\n",
        "                's': s,\n",
        "                'e_si':e_si,\n",
        "                's_hat': s_hat,\n",
        "                'b':b,\n",
        "                'correct_s_hat': correct_s_hat,\n",
        "                'x': x,\n",
        "            }            \n",
        "            self.saver = tf.train.Saver()\n",
        "        return\n",
        "    \n",
        "    def create_session(self):\n",
        "        '''Create a session for the autoencoder instance with the compuational graph'''\n",
        "        self.sess = tf.Session(graph=self.graph)        \n",
        "        self.sess.run(self.vars['init'])\n",
        "        return\n",
        "    \n",
        "    def encoder(self, input):\n",
        "        '''The transmitter'''\n",
        "        self.weight_var_rec = self.weight_variable((self.M,self.M)) # shape = (8,8)\n",
        "        self.embedding_lookup_rec = tf.nn.embedding_lookup(self.weight_var_rec, input)\n",
        "        print(self.embedding_lookup_rec)\n",
        "        x = tf.nn.elu(self.embedding_lookup_rec)\n",
        "        #x = tf.layers.dense(self.embedding_lookup_rec, self.M, activation=tf.nn.relu)\n",
        "        x = tf.layers.dense(x, self.M, activation=None)\n",
        "        x = tf.layers.dense(x, self.n, activation=None)\n",
        "        #x = tf.layers.dense(x, self.n, activation=None)\n",
        "        #x = tf.layers.dense(x, self.n, activation=None)\n",
        "        #x = tf.layers.dense(x, self.n, activation=None)\n",
        "        #x = tf.layers.dense(x, self.n, activation=None)\n",
        "        x = tf.reshape(x, shape=[-1,self.n_complex,2])\n",
        "        print(x);\n",
        "        #Average power normalization\n",
        "        x = x/tf.sqrt(2*tf.reduce_mean(tf.square(x))) \n",
        "        return x\n",
        "    \n",
        "    def decoder(self, input):\n",
        "        '''The Receiver'''\n",
        "        #input = self.flip_decoder(input)\n",
        "        y = tf.reshape(input, shape=[-1,self.n])\n",
        "        y = tf.layers.dense(y, self.M, activation=None)\n",
        "        y = tf.layers.dense(y, self.M, activation=None)\n",
        "        y = tf.layers.dense(y, self.M, activation=None)\n",
        "        #y = tf.layers.dense(y, self.M, activation=None)\n",
        "        #y = tf.layers.dense(y, self.M, activation=None)\n",
        "        #y = tf.layers.dense(y, self.M, activation=None)\n",
        "        #y = tf.layers.dense(y, self.M, activation=None)\n",
        "        #y = tf.layers.dense(y, self.M, activation=None)\n",
        "        print(y);\n",
        "        return y\n",
        "    \n",
        "    def EbNo2Sigma(self, ebnodb):\n",
        "        '''Convert Eb/No in dB to noise standard deviation'''\n",
        "        ebno = 10**(ebnodb/10)\n",
        "        return 1/np.sqrt(2*self.bits_per_symbol*ebno)\n",
        "    \n",
        "    def gen_feed_dict(self, batch_size, ebnodb, lr):\n",
        "        '''Generate a feed dictionary for training and validation'''        \n",
        "        return {\n",
        "            self.vars['batch_size']: batch_size,\n",
        "            self.vars['noise_std']: self.EbNo2Sigma(ebnodb),\n",
        "            self.vars['lr']: lr,\n",
        "        }\n",
        "\n",
        "    def gen_e2e_feed_dict(self, batch_size, ebnodb, s_input):\n",
        "        '''Generate a feed dictionary for training and validation'''        \n",
        "        return {\n",
        "            self.vars['batch_size']: batch_size,\n",
        "            self.vars['noise_std']: self.EbNo2Sigma(ebnodb),\n",
        "            self.vars['s']: s_input,\n",
        "        }   \n",
        "    \n",
        "    def load(self, filename):\n",
        "        '''Load an pre_trained model'''\n",
        "        return self.saver.restore(self.sess, filename)\n",
        "        \n",
        "    def plot_constellation(self, maxrange=None):\n",
        "        '''Generate a plot of the current constellation'''\n",
        "        x = self.transmit(range(self.M))\n",
        "        if (maxrange is None):\n",
        "            maxrange = np.max(np.abs(x))\n",
        "        for k in range(self.n_complex):\n",
        "            image = plt.figure(figsize=(6,6))\n",
        "            plt.grid(True)\n",
        "            plt.xlim(-maxrange,maxrange)\n",
        "            plt.ylim(-maxrange,maxrange)\n",
        "            for i in range(self.M):       \n",
        "                plt.scatter(x[i,k,0],x[i,k,1],c=\"black\",marker='x')   \n",
        "            image.axes[0].set_xticks(np.array([-2,-1,0,1,2]))\n",
        "            image.axes[0].set_yticks(np.array([-2,-1,0,1,2]))\n",
        "            image.suptitle('%d. complex symbol' % (k+1))\n",
        "            plt.xlabel('Re')\n",
        "            plt.ylabel('Im')\n",
        "        return x, image\n",
        "    \n",
        "    def save(self, filename):\n",
        "        '''Save the current model'''\n",
        "        return self.saver.save(self.sess, filename)  \n",
        "    \n",
        "    def test_step(self, batch_size, ebnodb):\n",
        "        '''Compute the BLER over a single batch and Eb/No'''\n",
        "        bler = self.sess.run(self.vars['bler'], feed_dict=self.gen_feed_dict(batch_size, ebnodb, lr=0))\n",
        "        return bler\n",
        "    \n",
        "    def transmit(self, s):\n",
        "        '''Returns the transmitted sigals corresponding to message indices'''\n",
        "        return self.sess.run(self.vars['x'], feed_dict={self.vars['s']: s})\n",
        "\n",
        "    def end2end(self, batch_size, ebnodb, input_s):\n",
        "        '''Returns the transmitted sigals corresponding to message indices'''\n",
        "        return self.sess.run(self.vars['correct_s_hat'], feed_dict=self.gen_e2e_feed_dict(batch_size, ebnodb, input_s)) \n",
        "        #print(self.sess.run(self.vars['correct_s_hat'], feed_dict={self.vars['s']: input_s}))     \n",
        "\n",
        "    #print(self.sess.run(self.vars['s_hat'], feed_dict={self.vars['s']: s}))\n",
        "\n",
        "    def train(self, training_params, validation_params):  \n",
        "        #s_input = self.generate_distances(100,np.array([0, 1, 2, 3, 4, 5, 6]))\n",
        "        \n",
        "\n",
        "        '''Training and validation loop'''\n",
        "        for index, params in enumerate(training_params):            \n",
        "            batch_size, lr, ebnodb, iterations = params            \n",
        "            print('\\nBatch Size: ' + str(batch_size) +\n",
        "                  ', Learning Rate: ' + str(lr) +\n",
        "                  ', EbNodB: ' + str(ebnodb) +\n",
        "                  ', Iterations: ' + str(iterations))\n",
        "            \n",
        "            val_size, val_ebnodb, val_steps = validation_params[index]\n",
        "            #print(self.sess.run(self.vars['s'], feed_dict=self.gen_feed_dict(val_size, val_ebnodb, lr)))\n",
        "            #print(self.sess.run(self.vars['b'], feed_dict=self.gen_feed_dict(val_size, val_ebnodb, lr)))\n",
        "            #print(self.sess.run(self.vars['i_matrix'], feed_dict=self.gen_feed_dict(val_size, val_ebnodb, lr)))\n",
        "            #print(self.sess.run(self.vars['e_si'], feed_dict=self.gen_feed_dict(val_size, val_ebnodb, lr)))\n",
        "            #print(self.sess.run(self.vars['cost_func'], feed_dict=self.gen_feed_dict(val_size, val_ebnodb, lr)))\n",
        "            #print(self.sess.run(self.vars['sum_cf'], feed_dict=self.gen_feed_dict(val_size, val_ebnodb, lr)))\n",
        "\n",
        "\n",
        "\n",
        "            for i in range(iterations):\n",
        "                self.train_step(batch_size, ebnodb, lr)    \n",
        "                if (i%val_steps==0):\n",
        "                    #bler = self.sess.run(self.vars['bler'], feed_dict=self.gen_new_feed_dict(val_size, val_ebnodb, lr, s_input))\n",
        "                    bler = self.sess.run(self.vars['bler'], feed_dict=self.gen_feed_dict(val_size, val_ebnodb, lr))\n",
        "                    print(bler)                           \n",
        "        return       \n",
        "    \n",
        "    def train_step(self, batch_size, ebnodb, lr):\n",
        "        '''A single training step'''\n",
        "        #self.sess.run(self.vars['train_op'], feed_dict=self.gen_new_feed_dict(batch_size, ebnodb, lr, s_input))\n",
        "        self.sess.run(self.vars['train_op'], feed_dict=self.gen_feed_dict(batch_size, ebnodb, lr))\n",
        "        return \n",
        "    \n",
        "    def weight_variable(self, shape):\n",
        "        '''Xavier-initialized weights optimized for ReLU Activations'''\n",
        "        (fan_in, fan_out) = shape\n",
        "        low = np.sqrt(6.0/(fan_in + fan_out)) \n",
        "        high = -np.sqrt(6.0/(fan_in + fan_out))\n",
        "        return tf.Variable(tf.random_uniform(shape, minval=low, maxval=high, dtype=tf.float32))\n",
        "    \n",
        "    def bler_sim(self, ebnodbs, batch_size, iterations):\n",
        "        '''Monte Carlo simulations of BLER for a range of Eb/No\n",
        "           Sometimes we to compute statistics for batch sizes that do not fit into the GPUs memory.\n",
        "           You can average over multiple batches with small size instead.           \n",
        "        '''\n",
        "        BLER = np.zeros_like(ebnodbs)\n",
        "        for i in range(iterations):\n",
        "            bler = np.array([self.sess.run(self.vars['bler'],\n",
        "                            feed_dict=self.gen_feed_dict(batch_size, ebnodb, lr=0)) for ebnodb in ebnodbs])\n",
        "            BLER = BLER + bler/iterations\n",
        "        return BLER\n",
        "    \n",
        "    def plot_bler(self, EbNodB, BLER):\n",
        "        '''Plot a BLER curve'''\n",
        "        image = plt.figure(figsize=(10,8))\n",
        "        plt.plot(EbNodB, BLER, '-r', linewidth=2.0)\n",
        "        plt.yscale('log')\n",
        "        plt.xlabel('EbNo (dB)', fontsize=18)\n",
        "        plt.ylabel('Block-error rate', fontsize=18)\n",
        "        plt.grid(True)\n",
        "        plt.ylim([1e-5,1])\n",
        "        return image"
      ]
    },
    {
      "cell_type": "markdown",
      "metadata": {
        "id": "bANUdLIsf7hM"
      },
      "source": [
        "## Training parameters"
      ]
    },
    {
      "cell_type": "code",
      "execution_count": 23,
      "metadata": {
        "colab": {
          "base_uri": "https://localhost:8080/",
          "height": 578
        },
        "id": "YeHghWVRf7hO",
        "outputId": "f005380d-dc30-4e72-ba4a-9ce95d051509"
      },
      "outputs": [
        {
          "output_type": "stream",
          "name": "stdout",
          "text": [
            "See s here: Tensor(\"random_uniform:0\", shape=(?,), dtype=int64)\n",
            "Tensor(\"embedding_lookup/Identity:0\", shape=(?, 8), dtype=float32)\n",
            "Tensor(\"Reshape:0\", shape=(?, 1, 2), dtype=float32)\n",
            "Tensor(\"dense_4/BiasAdd:0\", shape=(?, 8), dtype=float32)\n",
            "Tensor(\"Reshape_2:0\", shape=(1000, 8), dtype=int32)\n",
            "Tensor(\"Sum:0\", shape=(1000,), dtype=float32)\n",
            "\n",
            "Batch Size: 1000, Learning Rate: 0.01, EbNodB: 7, Iterations: 10000\n",
            "0.938\n",
            "0.515\n",
            "0.549\n",
            "0.56\n",
            "0.42000002\n",
            "0.41500002\n",
            "0.425\n",
            "0.42799997\n",
            "0.45499998\n",
            "0.45\n"
          ]
        },
        {
          "output_type": "display_data",
          "data": {
            "image/png": "[encoded data removed]",
            "text/plain": [
              "<Figure size 432x288 with 1 Axes>"
            ]
          },
          "metadata": {
            "needs_background": "light"
          }
        }
      ],
      "source": [
        "train_EbNodB = 7\n",
        "val_EbNodB = train_EbNodB\n",
        "\n",
        "lr = 0.01\n",
        "\n",
        "\n",
        "epoch = [1000]\n",
        "# decay_learning_rate = learning_rate *decay_rate ^ (global_step / decay_steps)\n",
        "#global_step = tf.train.get_global_step()\n",
        "#tf.summary.scalar('learning_rate', lr) \n",
        "#for i in epoch:\n",
        "training_params = [\n",
        "    #batch_size, lr, ebnodb, iterations\n",
        "    [1000 , 0.01, train_EbNodB, 10000]\n",
        "#    [50000 , 0.001, train_EbNodB, 10000]    \n",
        "    ]\n",
        "\n",
        "validation_params = [\n",
        "    #batch_size, ebnodb, val_steps \n",
        "    [1000, val_EbNodB, 1000],\n",
        "    [1000, val_EbNodB, 1000],\n",
        "    [1000, val_EbNodB, 1000]\n",
        "    ]\n",
        "\n",
        "model_file_uw = 'models/ae_k_{}_n_{}'.format(k,n)\n",
        "ae = AE(k,n,seed)\n",
        "ae.train(training_params, validation_params)\n",
        "ae.save(model_file_uw);\n",
        "#ae = AE(k,n,seed, filename=model_file_uw)\n",
        "  #ae.plot_constellation();\n",
        "  #ae.end2end(tr)"
      ]
    },
    {
      "cell_type": "markdown",
      "metadata": {
        "id": "Wl3hENsvf7hW"
      },
      "source": [
        "## Create and train model"
      ]
    },
    {
      "cell_type": "code",
      "execution_count": 24,
      "metadata": {
        "id": "B0GA7ihjf7hZ"
      },
      "outputs": [],
      "source": [
        "#model_file = 'models/ae_k_{}_n_{}'.format(k,n)\n",
        "#ae = AE(k,n,seed)\n",
        "#ae.train(training_params, validation_params)\n",
        "#ae.save(model_file); # Save the trained autoencoder if you want to reuse it later\n",
        "#sess = tf.Session()\n",
        "#print(sess.run((rmse_uw_0)))"
      ]
    },
    {
      "cell_type": "markdown",
      "metadata": {
        "id": "lzqpcwGaf7hm"
      },
      "source": [
        "## Evaluate trained model"
      ]
    },
    {
      "cell_type": "code",
      "execution_count": 25,
      "metadata": {
        "colab": {
          "base_uri": "https://localhost:8080/",
          "height": 369
        },
        "id": "Y33vV4xKf7hn",
        "outputId": "d44353d5-cf39-496d-befc-3202806a52dd"
      },
      "outputs": [
        {
          "output_type": "stream",
          "name": "stdout",
          "text": [
            "See s here: Tensor(\"random_uniform:0\", shape=(?,), dtype=int64)\n",
            "Tensor(\"embedding_lookup/Identity:0\", shape=(?, 8), dtype=float32)\n",
            "Tensor(\"Reshape:0\", shape=(?, 1, 2), dtype=float32)\n",
            "Tensor(\"dense_4/BiasAdd:0\", shape=(?, 8), dtype=float32)\n",
            "Tensor(\"Reshape_2:0\", shape=(1000, 8), dtype=int32)\n",
            "Tensor(\"Sum:0\", shape=(1000,), dtype=float32)\n"
          ]
        },
        {
          "output_type": "display_data",
          "data": {
            "image/png": "[encoded data removed]",
            "text/plain": [
              "<Figure size 432x288 with 1 Axes>"
            ]
          },
          "metadata": {
            "needs_background": "light"
          }
        }
      ],
      "source": [
        "ae_uw = AE(k,n,seed, filename=model_file_uw) #Load a pretrained model that you have saved if needed"
      ]
    },
    {
      "cell_type": "markdown",
      "metadata": {
        "id": "dsoF-I7Rf7hy"
      },
      "source": [
        "### Plot of learned constellations"
      ]
    },
    {
      "cell_type": "code",
      "execution_count": 26,
      "metadata": {
        "id": "YjGW8S_df7h0"
      },
      "outputs": [],
      "source": [
        "import itertools\n",
        "def plot_constellation_2(ae, arr, maxrange=None):\n",
        "        '''Generate a plot of the current constellation'''\n",
        "        x = ae.transmit(arr)\n",
        "        #marker = itertools.cycle(('1', '2', '3', '4', '^', '6', '7', '8'))\n",
        "        #weights = [1,4,9,16,25,36,49,64]\n",
        "        #weights = [1,4,9,16,25,36,49,64,81,100,121,144,169,196,225,256]\n",
        "        #weights = [1,1,1,1,1,1,1,1]\n",
        "        #weights = [1,8,27,64,125,216,343,512]\n",
        "        #weights = [1,2,3,4,5,6,7,8,9,10,11,12,13,14,15,16]\n",
        "        weights = np.arange(M)\n",
        "        #weights = [1,16,81,256,625, 1296, 2401, 4096]\n",
        "        #weights = [1,256,6561,65536, 390625, 1.6, 5.7, 16.7]\n",
        "        #x = ae.transmit(np.ones(ae.M)*n)\n",
        "        #print(ae.M)\n",
        "        if (maxrange is None):\n",
        "            maxrange = np.max(np.abs(x))\n",
        "        for k in range(ae.n_complex):\n",
        "            \n",
        "#            image = plt.figure(figsize=(6,6))\n",
        "            image = plt.plot()\n",
        "            plt.grid(True)\n",
        "            plt.xlim(-2,2)\n",
        "            plt.ylim(-2,2)\n",
        "            #plt.show() \n",
        "            #plt.ion()\n",
        "            xshape = np.shape(x)\n",
        "            for i in range(xshape[0]):      \n",
        "                plt.scatter(x[i,k,0],x[i,k,1],c=\"black\")\n",
        "                plt.annotate(weights[i], (x[i,k,0],x[i,k,1]))\n",
        "\n",
        "\n",
        "                #plt.show()              \n",
        "                #plt.pause(1)\n",
        "                #plt.hold(True)\n",
        "            #image.axes[0].set_xticks(np.array([-2,-1,0,1,2]))\n",
        "            #image.axes[0].set_yticks(np.array([-2,-1,0,1,2]))\n",
        "            #image.suptitle('%d. complex symbol' % (k+1))\n",
        "            #image.canvas.draw()\n",
        "            #image.canvas.flush_events()\n",
        "            \n",
        "            plt.xlabel('Re')\n",
        "            plt.ylabel('Im')\n",
        "            #time.sleep(0.1)\n",
        "        return x, image\n",
        "\n",
        "#plot_constellation_2(ae,range(0,ae.M))"
      ]
    },
    {
      "cell_type": "markdown",
      "metadata": {
        "id": "qMbROTHNMa79"
      },
      "source": [
        "**THE RMSE Calculations**"
      ]
    },
    {
      "cell_type": "code",
      "execution_count": 27,
      "metadata": {
        "colab": {
          "base_uri": "https://localhost:8080/",
          "height": 1000
        },
        "id": "B7-W-Be2auJV",
        "outputId": "c830bfd0-cefc-43b9-caf7-718df59a657c"
      },
      "outputs": [
        {
          "output_type": "stream",
          "name": "stdout",
          "text": [
            "(1000,)\n",
            "(1000,)\n",
            "[6. 0. 0. 7. 6. 4. 7. 7. 4. 4. 4. 1. 5. 6. 0. 5. 1. 0. 4. 0. 3. 0. 6. 2.\n",
            " 1. 1. 3. 2. 7. 2. 4. 3. 3. 7. 3. 1. 7. 2. 7. 7. 2. 6. 4. 1. 5. 7. 7. 4.\n",
            " 3. 4. 4. 1. 3. 2. 3. 7. 5. 5. 2. 6. 4. 7. 5. 7. 6. 2. 2. 7. 6. 7. 2. 1.\n",
            " 2. 7. 3. 1. 7. 0. 0. 7. 4. 7. 4. 1. 1. 2. 3. 7. 2. 7. 5. 2. 3. 4. 0. 0.\n",
            " 0. 5. 0. 4. 4. 3. 5. 5. 2. 2. 4. 1. 4. 0. 5. 4. 1. 2. 4. 0. 6. 0. 6. 4.\n",
            " 7. 0. 3. 6. 3. 2. 5. 3. 2. 5. 1. 6. 0. 2. 7. 1. 3. 6. 0. 2. 1. 3. 3. 2.\n",
            " 6. 7. 3. 1. 6. 2. 3. 0. 6. 5. 3. 3. 0. 6. 1. 4. 1. 2. 7. 3. 4. 4. 1. 7.\n",
            " 5. 3. 5. 5. 2. 2. 1. 2. 7. 1. 4. 0. 3. 3. 0. 5. 2. 5. 4. 0. 5. 2. 6. 2.\n",
            " 7. 5. 5. 5. 6. 1. 5. 1. 3. 7. 7. 7. 7. 2. 6. 7. 1. 3. 1. 6. 1. 5. 5. 6.\n",
            " 3. 4. 0. 6. 1. 4. 4. 3. 0. 5. 1. 6. 4. 1. 7. 2. 3. 7. 2. 6. 6. 3. 5. 1.\n",
            " 4. 5. 1. 4. 4. 3. 3. 4. 5. 7. 3. 2. 0. 6. 4. 1. 0. 7. 7. 1. 7. 5. 6. 3.\n",
            " 2. 0. 2. 1. 7. 5. 5. 2. 2. 5. 1. 7. 4. 4. 6. 6. 5. 1. 0. 0. 5. 1. 1. 3.\n",
            " 7. 6. 3. 6. 3. 5. 2. 5. 7. 5. 2. 7. 1. 7. 7. 1. 7. 4. 7. 1. 2. 5. 0. 4.\n",
            " 0. 1. 1. 4. 3. 2. 6. 5. 4. 0. 4. 6. 7. 0. 1. 2. 1. 5. 0. 4. 7. 7. 6. 6.\n",
            " 4. 6. 3. 1. 4. 2. 3. 3. 4. 5. 4. 2. 7. 7. 0. 5. 4. 0. 0. 7. 6. 6. 4. 2.\n",
            " 3. 5. 1. 6. 7. 6. 1. 0. 2. 7. 5. 1. 2. 2. 3. 3. 0. 0. 4. 1. 4. 4. 6. 2.\n",
            " 3. 0. 0. 6. 3. 7. 0. 7. 3. 5. 0. 2. 6. 3. 3. 5. 2. 0. 7. 1. 7. 3. 1. 5.\n",
            " 5. 2. 0. 1. 4. 6. 6. 4. 1. 5. 2. 3. 1. 0. 0. 7. 1. 1. 2. 2. 6. 4. 7. 2.\n",
            " 7. 4. 1. 0. 6. 6. 7. 3. 0. 1. 4. 4. 1. 7. 5. 3. 7. 6. 2. 4. 5. 4. 3. 6.\n",
            " 6. 0. 3. 1. 1. 2. 3. 4. 3. 7. 5. 0. 5. 0. 6. 3. 0. 3. 4. 2. 3. 4. 5. 3.\n",
            " 4. 6. 2. 3. 6. 7. 1. 7. 7. 6. 2. 3. 0. 2. 3. 3. 6. 6. 5. 3. 3. 5. 3. 0.\n",
            " 7. 1. 3. 4. 2. 2. 3. 4. 4. 6. 1. 5. 2. 5. 5. 5. 5. 4. 2. 3. 4. 2. 2. 0.\n",
            " 2. 1. 3. 4. 4. 4. 7. 1. 7. 6. 7. 4. 4. 1. 7. 0. 0. 1. 7. 2. 5. 1. 5. 3.\n",
            " 0. 3. 6. 0. 2. 1. 5. 5. 3. 7. 4. 5. 1. 4. 1. 2. 0. 5. 2. 5. 1. 6. 1. 4.\n",
            " 1. 2. 0. 6. 1. 1. 0. 1. 0. 6. 5. 1. 1. 7. 5. 3. 1. 7. 0. 5. 5. 2. 6. 0.\n",
            " 4. 5. 5. 5. 2. 1. 6. 3. 2. 3. 3. 1. 7. 3. 7. 3. 7. 5. 5. 4. 5. 3. 1. 2.\n",
            " 6. 7. 3. 4. 5. 0. 2. 4. 7. 2. 5. 4. 1. 6. 6. 7. 5. 5. 6. 7. 5. 1. 7. 2.\n",
            " 7. 0. 0. 5. 2. 3. 5. 5. 0. 5. 5. 0. 0. 1. 6. 6. 6. 5. 4. 1. 3. 7. 2. 5.\n",
            " 0. 7. 7. 2. 6. 1. 5. 6. 2. 7. 2. 5. 6. 0. 5. 1. 5. 2. 4. 0. 4. 3. 0. 3.\n",
            " 2. 4. 0. 4. 4. 2. 5. 6. 6. 3. 1. 1. 2. 0. 6. 4. 3. 2. 0. 4. 4. 7. 7. 0.\n",
            " 7. 7. 6. 0. 6. 0. 4. 5. 6. 5. 0. 4. 6. 6. 4. 5. 2. 7. 2. 4. 5. 7. 1. 4.\n",
            " 4. 2. 0. 5. 7. 2. 4. 7. 4. 5. 5. 4. 0. 0. 6. 4. 3. 7. 4. 3. 0. 2. 7. 7.\n",
            " 0. 7. 3. 4. 0. 4. 2. 2. 4. 2. 4. 1. 3. 1. 1. 4. 7. 3. 6. 3. 1. 4. 3. 6.\n",
            " 6. 1. 2. 7. 5. 7. 3. 7. 3. 2. 5. 3. 2. 2. 6. 7. 7. 2. 2. 3. 2. 5. 6. 5.\n",
            " 2. 3. 0. 1. 3. 5. 3. 5. 1. 7. 1. 2. 1. 7. 7. 5. 1. 7. 4. 3. 0. 7. 4. 1.\n",
            " 3. 1. 4. 7. 7. 3. 1. 0. 4. 7. 5. 1. 7. 5. 2. 0. 2. 1. 3. 6. 4. 2. 4. 3.\n",
            " 0. 7. 3. 7. 1. 6. 7. 3. 4. 4. 0. 7. 2. 4. 4. 7. 7. 1. 6. 5. 6. 7. 2. 3.\n",
            " 1. 1. 4. 1. 0. 2. 6. 2. 1. 4. 7. 4. 3. 4. 7. 2. 0. 2. 2. 3. 4. 7. 1. 0.\n",
            " 0. 6. 0. 4. 5. 4. 6. 5. 4. 0. 2. 2. 4. 4. 7. 0. 7. 6. 0. 6. 6. 7. 7. 3.\n",
            " 7. 5. 4. 4. 7. 5. 6. 7. 7. 4. 5. 2. 5. 7. 4. 5. 4. 0. 4. 6. 4. 3. 6. 0.\n",
            " 6. 2. 2. 6. 0. 1. 5. 2. 4. 2. 2. 5. 1. 2. 6. 1. 6. 0. 7. 3. 7. 5. 5. 1.\n",
            " 5. 1. 4. 3. 0. 4. 7. 0. 5. 3. 7. 0. 6. 6. 3. 0.]\n",
            "[5 1 1 5 5 4 5 5 5 4 4 1 5 5 1 5 1 1 4 1 3 1 5 2 1 1 2 2 5 2 4 3 3 5 3 1 5\n",
            " 2 5 5 2 5 4 1 5 5 5 4 3 4 4 1 3 2 3 5 5 5 2 5 4 5 4 5 5 2 2 5 5 5 2 1 2 5\n",
            " 3 1 5 1 1 5 4 5 4 1 1 2 3 5 2 5 5 1 3 3 1 1 1 5 1 4 4 4 5 5 2 2 4 1 3 1 5\n",
            " 4 1 2 4 1 5 1 5 4 5 1 3 5 3 3 5 3 2 5 1 5 1 2 5 1 3 5 1 2 1 3 3 2 5 5 3 1\n",
            " 5 2 3 1 5 5 4 3 1 5 1 4 1 2 5 3 4 4 1 5 5 3 5 5 2 1 1 2 5 1 4 1 3 3 1 5 2\n",
            " 5 4 1 5 2 5 2 5 5 5 5 5 1 5 1 3 5 5 5 5 2 5 5 1 3 1 5 1 5 5 5 3 4 1 5 1 4\n",
            " 4 3 1 5 1 5 4 1 5 2 3 5 2 5 5 3 5 1 4 5 1 4 4 2 3 4 3 5 3 2 1 5 4 1 1 5 5\n",
            " 1 2 5 5 3 2 1 3 1 5 5 5 2 2 5 1 5 4 4 5 5 5 1 1 1 5 1 2 3 5 5 3 5 4 5 2 5\n",
            " 5 5 2 5 1 5 5 1 5 4 5 1 2 5 1 4 1 1 1 4 3 2 5 5 4 1 4 5 5 1 1 2 1 5 1 4 5\n",
            " 3 5 5 3 5 3 1 4 2 3 3 4 5 4 2 5 5 1 5 4 1 1 5 5 5 4 2 3 5 2 5 5 5 1 1 2 5\n",
            " 5 1 2 2 3 3 1 1 4 1 4 4 5 2 3 2 1 5 3 5 1 1 3 5 1 2 5 3 3 5 2 1 5 1 5 3 1\n",
            " 5 5 2 1 1 4 5 5 4 1 5 2 3 1 1 1 5 1 1 2 2 5 4 5 2 5 4 1 1 5 5 5 2 1 1 4 4\n",
            " 1 5 5 3 5 5 2 4 5 4 3 5 5 1 3 1 1 2 3 4 3 5 5 1 5 1 5 3 2 3 4 2 4 4 5 3 4\n",
            " 5 2 3 5 5 1 5 5 5 2 3 1 2 3 3 5 5 5 3 3 5 3 1 5 1 3 4 2 2 3 4 4 5 1 5 2 5\n",
            " 5 5 5 4 2 3 3 3 2 1 2 1 3 4 4 4 5 1 5 1 5 4 4 1 5 1 1 1 5 2 5 1 5 4 1 3 5\n",
            " 1 2 1 5 5 3 5 5 5 1 4 1 2 1 5 2 5 1 5 1 4 1 2 1 5 1 1 1 1 2 5 5 1 1 5 5 3\n",
            " 1 5 1 5 5 2 5 1 4 5 5 5 3 1 5 3 2 3 3 1 5 3 4 2 5 5 5 4 5 3 1 2 5 5 3 4 5\n",
            " 1 2 4 5 2 5 4 1 5 5 5 4 5 5 5 5 1 5 2 5 1 1 5 2 3 5 5 2 5 5 1 1 1 5 5 5 5\n",
            " 4 1 3 5 2 5 2 5 5 2 5 1 5 5 2 5 2 5 5 1 4 1 5 2 4 2 4 3 1 3 2 4 5 4 4 2 5\n",
            " 5 5 3 1 1 2 1 5 4 3 2 1 4 4 5 5 1 5 5 5 1 5 1 5 5 5 5 1 4 5 5 4 5 2 5 2 4\n",
            " 5 5 1 4 4 2 1 5 5 2 4 5 4 5 4 4 1 1 5 4 3 5 4 3 1 2 5 5 1 5 3 4 1 4 2 2 4\n",
            " 2 4 1 3 1 1 4 5 3 5 3 1 4 3 5 5 1 2 5 5 5 3 5 3 2 5 3 1 2 5 5 5 2 3 3 2 5\n",
            " 5 4 2 3 1 1 3 5 3 5 1 5 1 2 1 5 5 5 1 5 4 3 1 2 2 1 3 1 4 5 5 3 1 1 4 5 5\n",
            " 1 5 5 2 1 3 1 3 5 4 2 4 3 1 5 3 5 1 5 5 3 4 4 1 5 2 4 4 5 5 1 5 3 5 5 3 3\n",
            " 1 1 4 1 1 2 4 2 1 4 5 4 3 4 5 2 2 2 2 3 4 5 1 1 1 5 1 4 5 4 5 5 4 1 2 2 5\n",
            " 4 5 1 5 5 1 5 5 4 5 3 5 5 4 4 5 5 5 5 5 3 5 2 5 5 4 5 4 1 4 5 4 3 5 1 5 2\n",
            " 2 5 1 1 5 3 4 2 2 5 1 2 5 1 5 1 5 3 5 5 5 1 5 1 4 3 1 4 5 1 5 3 5 1 5 5 3\n",
            " 1]\n",
            "[1.1824677959655288, 0.12803687993289598, 0.29315098498896436, 0.2727272727272727, 0.30692490702242564, 0.31994093943165425, 1.1170077985485816, 2.162419093984367]\n"
          ]
        },
        {
          "output_type": "execute_result",
          "data": {
            "text/plain": [
              "Text(0, 0.5, 'RMSE deviation')"
            ]
          },
          "metadata": {},
          "execution_count": 27
        },
        {
          "output_type": "display_data",
          "data": {
            "image/png": "[encoded data removed]",
            "text/plain": [
              "<Figure size 432x288 with 1 Axes>"
            ]
          },
          "metadata": {
            "needs_background": "light"
          }
        }
      ],
      "source": [
        "def rmse(predictions,targets):\n",
        "  return (np.sqrt((np.subtract(predictions,targets) ** 2).mean()))   \n",
        "\n",
        "tr_hat = ae.end2end(len(tr), 7, tr)\n",
        "print(np.shape(tr))\n",
        "print(np.shape(tr_hat))\n",
        "print(tr)\n",
        "print(tr_hat)\n",
        "\n",
        "\n",
        "\n",
        "\n",
        "rmse_uw = {}\n",
        "for j in range(M):\n",
        "  rmse_uw[j] = rmse(([tr_hat[x] for x in s_ind[j]]), ([tr[x] for x in s_ind[j]]))\n",
        "\n",
        "\n",
        "#message_factor = [15,14,13,12,11,10,9,8,7,6,5,4,3,2,1,1]\n",
        "#message_factor = np.flip(np.arange(M))\n",
        "#message_factor[M-1] = 1\n",
        "rmse_uwA = []\n",
        "for i in rmse_uw.values():\n",
        "  rmse_uwA.append(i)\n",
        "\n",
        "\n",
        "    \n",
        "#rmse_uw = [rmse_uw_0, rmse_uw_1, rmse_uw_2, rmse_uw_3, rmse_uw_4, rmse_uw_5, rmse_uw_6, rmse_uw_7, rmse_uw_8, rmse_uw_9, rmse_uw_10, rmse_uw_11, rmse_uw_12, rmse_uw_13, rmse_uw_14, rmse_uw_15]\n",
        "#rmse_uw = np.log2(np.divide(rmse_uwA,message_factor))\n",
        "rmse_uw = rmse_uwA\n",
        "#rmse_w = [rmse_w_0, rmse_w_1, rmse_w_2, rmse_w_3, rmse_w_4, rmse_w_5, rmse_w_6, rmse_w_7, rmse_w_8, rmse_w_9, rmse_w_10, rmse_w_11, rmse_w_12, rmse_w_13, rmse_w_14, rmse_w_15]\n",
        "\n",
        "#message = [0,1,2,3,4,5,6,7,8,9,10,11,12,13,14,15]\n",
        "message = np.arange(M)\n",
        "\n",
        "print(rmse_uw)\n",
        "plt.plot(message, rmse_uw, '-o');\n",
        "plt.xlabel('Message Bit')\n",
        "plt.ylabel('RMSE deviation')\n"
      ]
    },
    {
      "cell_type": "code",
      "execution_count": 35,
      "metadata": {
        "colab": {
          "base_uri": "https://localhost:8080/",
          "height": 691
        },
        "id": "sxostCb-vY1i",
        "outputId": "509eebc3-d54a-403a-83a9-75c9305627af"
      },
      "outputs": [
        {
          "output_type": "execute_result",
          "data": {
            "text/plain": [
              "(array([[[ 1.1878972 , -0.3579535 ]],\n",
              " \n",
              "        [[ 1.0282332 , -0.5507011 ]],\n",
              " \n",
              "        [[ 0.19138454, -1.0447925 ]],\n",
              " \n",
              "        [[-0.5061849 , -0.7937941 ]],\n",
              " \n",
              "        [[-0.85464287, -0.20738283]],\n",
              " \n",
              "        [[-0.38438568,  0.66262895]],\n",
              " \n",
              "        [[-0.33210465,  0.81356007]],\n",
              " \n",
              "        [[-0.36101937,  0.90715075]]], dtype=float32), [])"
            ]
          },
          "metadata": {},
          "execution_count": 35
        },
        {
          "output_type": "display_data",
          "data": {
            "image/png": "[encoded data removed]",
            "text/plain": [
              "<Figure size 432x432 with 1 Axes>"
            ]
          },
          "metadata": {
            "needs_background": "light"
          }
        }
      ],
      "source": [
        "ae.plot_constellation();\n",
        "plot_constellation_2(ae,range(0,ae.M))"
      ]
    },
    {
      "cell_type": "code",
      "execution_count": 29,
      "metadata": {
        "id": "mtoc7OKCUgko"
      },
      "outputs": [],
      "source": [
        "# 8-PSK Modulation\n",
        "#8PSK constellation \n",
        "#Demodulation matrx\n",
        "#Qfunction \n",
        "\n",
        "import numpy as np\n",
        "from scipy import special\n",
        "import matplotlib.pyplot as plt\n",
        "\n",
        "import subprocess\n",
        "import shlex\n",
        "\n",
        "\n",
        "#Generating constellation points\n",
        "s = np.zeros((8,2))\n",
        "s_comp = np.zeros((8,1))+1j*np.zeros((8,1))\n",
        "for i in range(8):\n",
        "\ts[i,:] = np.array(([np.cos(i*2*np.pi/8),np.sin(i*2*np.pi/8)])) #vector\n",
        "\ts_comp[i] = s[i,0]+1j*s[i,1] #equivalent complex number\n",
        "\n",
        "#Generating demodulation matrix\n",
        "A = np.zeros((8,2,2))\n",
        "A[0,:,:] = np.array(([np.sqrt(2)-1,1],[np.sqrt(2)-1,-1]))\n",
        "A[1,:,:] = np.array(([np.sqrt(2)+1,-1],[-(np.sqrt(2)-1),1]))\n",
        "A[2,:,:] = np.array(([-(np.sqrt(2)+1),1],[np.sqrt(2)+1,1]))\n",
        "A[3,:,:] = np.array(([np.sqrt(2)-1,1],[-(np.sqrt(2)+1),-1]))\n",
        "A[4,:,:] = np.array(([-(np.sqrt(2)-1),-1],[-(np.sqrt(2)-1),1]))\n",
        "A[5,:,:] = np.array(([-(np.sqrt(2)+1),1],[np.sqrt(2)-1,-1]))\n",
        "A[6,:,:] = np.array(([np.sqrt(2)+1,-1],[-(np.sqrt(2)+1),-1]))\n",
        "A[7,:,:] = np.array(([-(np.sqrt(2)-1),-1],[np.sqrt(2)+1,1]))\n",
        "\n",
        "#Gray code\n",
        "gray = np.zeros((8,3))\n",
        "gray[0,:] = np.array(([0,0,0]))\n",
        "gray[1,:] = np.array(([0,0,1]))\n",
        "gray[2,:] = np.array(([0,1,1]))\n",
        "gray[3,:] = np.array(([0,1,0]))\n",
        "gray[4,:] = np.array(([1,1,0]))\n",
        "gray[5,:] = np.array(([1,1,1]))\n",
        "gray[6,:] = np.array(([1,0,1]))\n",
        "gray[7,:] = np.array(([1,0,0]))\n",
        "\n",
        "\n",
        "#Q-function\n",
        "def qfunc(x):\n",
        "\treturn 0.5*special.erfc(x/np.sqrt(2))"
      ]
    },
    {
      "cell_type": "code",
      "execution_count": 30,
      "metadata": {
        "id": "7LDujO11Ulo5"
      },
      "outputs": [],
      "source": [
        "def decode(vec_comp):\n",
        "\tvec = np.zeros((2,1))\n",
        "\tvec[0] = np.real(vec_comp)\n",
        "\tvec[1] = np.imag(vec_comp)\n",
        "\tfor i in range(8):\n",
        "\t\ty = A[i,:,:]@vec\n",
        "\t\tif (y [0] >= 0) and (y[1] >= 0):\n",
        "\t\t\treturn s_comp[i]\n",
        "\n",
        "#Extracting bits from demodulated symbols\n",
        "def detect(vec_comp):\n",
        "\tvec = np.zeros((2,1))\n",
        "\tvec[0] = np.real(vec_comp)\n",
        "\tvec[1] = np.imag(vec_comp)\n",
        "\tfor i in range(8):\n",
        "\t\tif s[i,0]==vec[0] and s[i,1] == vec[1]:\n",
        "\t\t\treturn gray[i,:]\n",
        "\n",
        "#Demodulating symbol stream from received noisy  symbols\n",
        "def rx_symb(mat):\n",
        "\tlen = mat.shape[1]\n",
        "\trx_symb_stream = []\n",
        "\tfor i in range(len):\n",
        "\t\trx_symb_stream.append(decode(mat[:,i]))\n",
        "\treturn rx_symb_stream\n",
        "\n",
        "#Getting received bit stream from demodulated symbols\n",
        "def rx_bit(mat):\n",
        "\tlen = mat.shape[1]\n",
        "\trx_bit_stream = []\n",
        "\tfor i in range(len):\n",
        "\t\trx_bit_stream.append(detect(mat[:,i]))\n",
        "\treturn rx_bit_stream"
      ]
    },
    {
      "cell_type": "code",
      "execution_count": 31,
      "metadata": {
        "id": "qPu3HX_SUov_"
      },
      "outputs": [],
      "source": [
        "#Generates a bitstream\n",
        "def bitstream(n):\n",
        "\treturn np.random.randint(0,2,n)\n",
        "\n",
        "#Converts bits to 8-PSK symbols using gray code\n",
        "def mapping(b0,b1,b2):\n",
        "\tif (b0 == 0 and b1 == 0 and b2 == 0):\n",
        "\t\treturn s[0,:]\n",
        "\telif (b0 == 0 and b1 == 0 and b2 == 1):\n",
        "\t\treturn s[1,:]\n",
        "\telif (b0 == 0 and b1 == 1 and b2 == 1):\n",
        "\t\treturn s[2,:]\n",
        "\telif (b0 == 0 and b1 == 1 and b2 == 0):\n",
        "\t\treturn s[3,:]\n",
        "\telif( b0 == 1 and b1 == 1 and b2 == 0):\n",
        "\t\treturn s[4,:]\n",
        "\telif(b0==1 and b1 == 1 and b2 == 1):\n",
        "\t\treturn s[5,:]\n",
        "\telif(b0==1 and b1 == 0 and b2 == 1):\n",
        "\t\treturn s[6,:]\n",
        "\telif(b0==1 and b1 == 0 and b2 == 0):\n",
        "\t\treturn s[7,:]\n",
        "\n",
        "\n",
        "#Converts bitstream to 8-PSK symbol stream\n",
        "def symb(bits):\n",
        "\tsymbol =[]\n",
        "\ti = 0\n",
        "\twhile(1):\n",
        "\t\ttry:\n",
        "\t\t\tsymbol.append(mapping(bits[i],bits[i+1],bits[i+2]))\n",
        "\t\t\ti = i+3\n",
        "\t\texcept IndexError:\n",
        "\t\t\treturn symbol\n",
        "\n",
        "#Converts bitstream to 8-PSK complex symbol stream\n",
        "def CompSymb(bits):\n",
        "\tsymbols_lst = symb(bits)\n",
        "\tsymbols = np.array(symbols_lst).T #Symbol vectors\n",
        "\tsymbols_comp = symbols[0,:]+1j*symbols[1,:] #Equivalent complex symbols\n",
        "\treturn symbols_comp"
      ]
    },
    {
      "cell_type": "code",
      "execution_count": 32,
      "metadata": {
        "colab": {
          "base_uri": "https://localhost:8080/",
          "height": 291
        },
        "id": "FPNtUtWBUryp",
        "outputId": "298e133c-0cc9-4343-ec59-3396dbd12695"
      },
      "outputs": [
        {
          "output_type": "display_data",
          "data": {
            "image/png": "[encoded data removed]",
            "text/plain": [
              "<Figure size 432x288 with 1 Axes>"
            ]
          },
          "metadata": {
            "needs_background": "light"
          }
        }
      ],
      "source": [
        "\n",
        "#SNR range\n",
        "snrlen=15\n",
        "\n",
        "#SNR in dB and actual per bit \n",
        "#(Check Proakis for factor of 6)\n",
        "snr_db = np.linspace(0,snrlen,snrlen)\n",
        "snr = 6*10**(0.1*snr_db)\n",
        "\n",
        "#Bitstream size\n",
        "bitsimlen = 99999\n",
        "\n",
        "#Symbol stream size\n",
        "simlen = bitsimlen //3\n",
        "\n",
        "#Generating bitstream\n",
        "bits = bitstream(bitsimlen)\n",
        "\n",
        "#Converting bits to Gray coded 8-PSK symbols\n",
        "#Intermediate steps  required for converting list to\n",
        "#numpy matrix\n",
        "symbols_lst = symb(bits)\n",
        "symbols = np.array(symbols_lst).T #Symbol vectors\n",
        "symbols_comp = symbols[0,:]+1j*symbols[1,:] #Equivalent complex symbols\n",
        "\n",
        "ser =[]\n",
        "ser_anal=[]\n",
        "ber = []\n",
        "\n",
        "#SNRloop\n",
        "for k in range(0,snrlen):\n",
        "\treceived = []\n",
        "\tt=0\n",
        "\t#Complex noise\n",
        "\tnoise_comp = np.random.normal(0,1,simlen)+1j*np.random.normal(0,1,simlen)\n",
        "\t#Generating complex received symbols\n",
        "  #fade_comp = np.random.normal(0,1,simlen)+1j*np.random.normal(0,1,simlen)\n",
        "  #fade_comp = np.abs(fade_comp)\n",
        "  #fade_comp = np.math.sqrt(1/2)*fade_comp\n",
        "\ty_comp = np.sqrt(snr[k])*symbols_comp +noise_comp\n",
        "\tbrx = []\n",
        "\tfor i in range(simlen):\n",
        "\t\tsrx_comp = decode(y_comp[i]) #Received Symbol\n",
        "\t\tbrx.append(detect(srx_comp))  #Received Bits\n",
        "\t\tif symbols_comp[i]==srx_comp:\n",
        "\t\t\tt+=1; #Counting symbol errors\n",
        "\t#Evaluating SER\n",
        "\tser.append(1-(t/33334.0))\n",
        "\tser_anal.append(2*qfunc((np.sqrt(snr[k]))*np.sin(np.pi/8)))\n",
        "\t#Received bitstream\n",
        "\tbrx=np.array(brx).flatten()\n",
        "\t#Evaluating BER\n",
        "\tbit_diff = bits-brx\n",
        "\tber.append(1-len(np.where(bit_diff == 0)[0])/bitsimlen)\n",
        "\n",
        "\n",
        "\n",
        "#Plots\n",
        "plt.semilogy(snr_db,ser_anal,label='SER Analysis')\n",
        "plt.semilogy(snr_db,ser,'o',label='SER Sim')\n",
        "plt.semilogy(snr_db,ber,label='BER Sim')\n",
        "plt.xlabel('SNR$\\\\left(\\\\frac{E_b}{N_0}\\\\right)$')\n",
        "plt.ylabel('$P_e$')\n",
        "plt.legend()\n",
        "plt.grid()"
      ]
    },
    {
      "cell_type": "markdown",
      "metadata": {
        "id": "AFZCQNe9f7iD"
      },
      "source": [
        "### BLER Simulations"
      ]
    },
    {
      "cell_type": "code",
      "execution_count": 33,
      "metadata": {
        "colab": {
          "base_uri": "https://localhost:8080/",
          "height": 511
        },
        "id": "wukzCBJff7iE",
        "outputId": "b46d27cf-d491-4d3e-da85-fb42221fff2c"
      },
      "outputs": [
        {
          "output_type": "display_data",
          "data": {
            "image/png": "[encoded data removed]",
            "text/plain": [
              "<Figure size 720x576 with 1 Axes>"
            ]
          },
          "metadata": {
            "needs_background": "light"
          }
        }
      ],
      "source": [
        " ebnodbs = np.linspace(0,14,15)\n",
        "BLER_8PSK = [0.3478959, 0.2926128, 0.2378847, 0.1854187, 0.1372344, 0.0953536, 0.0614003, 0.0360195, 0.0185215, 0.0082433, 0.0030178, 0.0008626, 0.0001903, 0.0000289, 0.0000027, ]\n",
        "blers = ae.bler_sim(ebnodbs, 1000000, 1);\n",
        "ae.plot_bler(ebnodbs, blers);\n",
        "\n",
        "plt.semilogy(snr_db,ser,'o')\n",
        "plt.plot(ebnodbs,BLER_8PSK);\n",
        "plt.legend(['Autoencoder (Rayleigh+AWGN)',  'SER Sim(AWGN)', '8PSK(AWGN)'], prop={'size': 16}, loc='lower left');"
      ]
    },
    {
      "cell_type": "code",
      "execution_count": 34,
      "metadata": {
        "colab": {
          "base_uri": "https://localhost:8080/"
        },
        "id": "zMl-Rljrf7iR",
        "outputId": "dc9bd58c-a9ac-4391-c419-67a4c85706cc"
      },
      "outputs": [
        {
          "output_type": "execute_result",
          "data": {
            "text/plain": [
              "5.0"
            ]
          },
          "metadata": {},
          "execution_count": 34
        }
      ],
      "source": [
        "np.divide(10,2)\n",
        "#IEEE 802.11p Max TX Power 30dBm\n",
        "#Path loss model corresponding: 20log10(d(m))  (We take n=2, FSPL)\n",
        "#0.1W corresponds to 20dBm or -10dB\n",
        "#7dB corresponds to 5W\n",
        "#IEEE 802.11p is an approved amendment to the IEEE 802.11 standard to add wireless access in vehicular environments (WAVE), a vehicular communication system. \n",
        "#IEEE 802.11p standard typically uses channels of 10 MHz bandwidth in the 5.9 GHz band (5.850–5.925 GHz).\n",
        "# Noise Power -100dBm, TX Power is 20dBm and that \\\n",
        "#256m- -94dBm, 128m- -88dBm, 1m"
      ]
    },
    {
      "cell_type": "markdown",
      "source": [
        "\n",
        "from __future__ import print_function\n",
        "import numpy as np\n",
        "import tensorflow as tf\n",
        "\n",
        "limit = 256\n",
        "i = tf.range(limit)\n",
        "batch_size = 1000\n",
        "multiply = tf.constant([batch_size])\n",
        "i_matrix = tf.reshape(tf.tile(i, multiply), [ multiply[0], tf.shape(i)[0]])\n",
        "s = tf.range(batch_size)\n",
        "#sum_si = tf.math.add_n([tf.transpose(s), i_matrix])\n",
        "sum_si = s - tf.transpose(i_matrix)\n",
        "sum_si = tf.transpose(sum_si)\n",
        "sum_si = tf.math.square(sum_si)\n",
        "s_hat = 0.0001*tf.ones([batch_size, limit], tf.float32)\n",
        "cost = tf.math.multiply(s_hat, tf.cast(sum_si, tf.float32))\n",
        "\n",
        "sum_cost = tf.reduce_sum(cost, axis = 1)\n",
        "\n",
        "\n",
        "sess = tf.Session()\n",
        "print(sess.run(i_matrix))\n",
        "print(sess.run(s))\n",
        "print(sess.run(tf.shape(i_matrix)))\n",
        "print(sess.run(tf.shape(sum_si)))\n",
        "print(sess.run(sum_si))\n",
        "print(sess.run(cost))\n",
        "print(sess.run(tf.shape(cost)))\n",
        "\n",
        "print(sess.run(sum_cost))\n",
        "print(sess.run(tf.shape(sum_cost)))"
      ],
      "metadata": {
        "id": "M3oErohOYG8p"
      }
    }
  ],
  "metadata": {
    "accelerator": "GPU",
    "colab": {
      "collapsed_sections": [],
      "name": "Rayleigh_COLAB_Loss_Func.ipynb",
      "provenance": [],
      "include_colab_link": true
    },
    "kernelspec": {
      "display_name": "Python 3",
      "language": "python",
      "name": "python3"
    }
  },
  "nbformat": 4,
  "nbformat_minor": 0
}